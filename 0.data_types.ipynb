{
 "cells": [
  {
   "cell_type": "markdown",
   "metadata": {},
   "source": [
    "# Python data types"
   ]
  },
  {
   "cell_type": "code",
   "execution_count": 1,
   "metadata": {},
   "outputs": [
    {
     "name": "stdout",
     "output_type": "stream",
     "text": [
      "Added integers:  3\n",
      "Added floats:  4.0\n",
      "Full name:  firstName lastName\n"
     ]
    }
   ],
   "source": [
    "# Types\n",
    "# Intigers\n",
    "my_int = 1\n",
    "my_other_int = 2\n",
    "added_ints = my_int + my_other_int\n",
    "print(\"Added integers: \", added_ints)\n",
    "\n",
    "# Floats\n",
    "my_float = 1.5\n",
    "my_other_float = 2.5\n",
    "added_floats = my_float + my_other_float\n",
    "print(\"Added floats: \", added_floats)\n",
    "\n",
    "# Strings\n",
    "my_name = \"firstName\"\n",
    "my_last_name = \"lastName\"\n",
    "# You can combine strings by adding them together\n",
    "combined_name = my_name + \" \" + my_last_name\n",
    "print(\"Full name: \", combined_name)"
   ]
  },
  {
   "cell_type": "code",
   "execution_count": 2,
   "metadata": {},
   "outputs": [
    {
     "name": "stdout",
     "output_type": "stream",
     "text": [
      "First list:  [1, 2, 3, 4, 5, 5, 5, 5]\n",
      "Appended 6 to list:  [1, 2, 3, 4, 5, 5, 5, 5, 6]\n",
      "\n",
      "This is a set:  {1, 2, 3, 4, 5}\n",
      "Notice how 5 is only included once even though there are 6 instances when we created the set.\n",
      "\n",
      "First name:  Parker\n",
      "Age:  23\n",
      "Favorite color:  black \n",
      "\n",
      "Key, value:  first_name ,  Parker\n",
      "Key, value:  Age ,  23\n",
      "Key, value:  favorite_color ,  black\n",
      "\n",
      "See how the new key, value pair is added to the end\n",
      "{'first_name': 'Parker', 'Age': 23, 'favorite_color': 'black', 'new_key': 'new_value'}\n"
     ]
    }
   ],
   "source": [
    "# Structures\n",
    "# Lists are unordered and can have multiple instances of a single element\n",
    "my_list = [1, 2, 3, 4, 5, 5, 5, 5]\n",
    "print(\"First list: \", my_list)\n",
    "\n",
    "# Add elements to list by .append()\n",
    "my_list.append(6)\n",
    "print(\"Appended 6 to list: \", my_list)\n",
    "\n",
    "# Sets can only have one instance of an element\n",
    "my_set = {1, 2, 3, 4, 5, 5, 5, 5, 5, 5}\n",
    "print(\"\\nThis is a set: \", my_set)\n",
    "print(\"Notice how 5 is only included once even though there are 6 instances when we created the set.\\n\")\n",
    "\n",
    "# Dictionaries are my favorite. They include a key, value pair allowing you to assign values to a specific key\n",
    "# Keys are strings. Values can be any type and you can mix types within the same dict\n",
    "my_dict = {\"first_name\": \"Parker\", \"Age\": 23, \"favorite_color\": \"black\"}\n",
    "\n",
    "# To access values of the dictionary you can...\n",
    "# Call a key directly \n",
    "print(\"First name: \", my_dict[\"first_name\"])\n",
    "print(\"Age: \", my_dict[\"Age\"])\n",
    "print(\"Favorite color: \", my_dict[\"favorite_color\"], \"\\n\")\n",
    "\n",
    "# You can also iterate through key, value pairs\n",
    "for key, value in my_dict.items():\n",
    "    print(\"Key, value: \", key, \", \", value)\n",
    "\n",
    "# You can add new key, value pairs\n",
    "my_dict[\"new_key\"] = \"new_value\"\n",
    "print(\"\\nSee how the new key, value pair is added to the end\")\n",
    "print(my_dict)\n",
    "\n",
    "# To instantiate structures...\n",
    "list_init = list()\n",
    "dict_init = dict()\n",
    "set_init = set()"
   ]
  },
  {
   "cell_type": "markdown",
   "metadata": {},
   "source": [
    "### Your turn!\n",
    "1. Make a dictionary with a list of numbers, a number classified as \"ID\", and your favorite person\n",
    "2. Print the name of your favorite person by calling it from the dictionary\n",
    "3. Instantiate a list of numbers and then append another number to the list"
   ]
  },
  {
   "cell_type": "code",
   "execution_count": null,
   "metadata": {},
   "outputs": [],
   "source": [
    "# Your code here:\n",
    "# Dictionary\n",
    "\n",
    "# List\n"
   ]
  }
 ],
 "metadata": {
  "kernelspec": {
   "display_name": "Python 3.11.0 ('python-beginner')",
   "language": "python",
   "name": "python3"
  },
  "language_info": {
   "codemirror_mode": {
    "name": "ipython",
    "version": 3
   },
   "file_extension": ".py",
   "mimetype": "text/x-python",
   "name": "python",
   "nbconvert_exporter": "python",
   "pygments_lexer": "ipython3",
   "version": "3.11.0"
  },
  "orig_nbformat": 4,
  "vscode": {
   "interpreter": {
    "hash": "d77d84a48fd45d6600e72b3aaae72e527ed1c322d2ddc0f1537e5ee3e197fd17"
   }
  }
 },
 "nbformat": 4,
 "nbformat_minor": 2
}
