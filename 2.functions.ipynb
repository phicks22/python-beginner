{
 "cells": [
  {
   "cell_type": "markdown",
   "metadata": {},
   "source": [
    "# Writing functions"
   ]
  },
  {
   "cell_type": "code",
   "execution_count": 1,
   "metadata": {},
   "outputs": [
    {
     "name": "stdout",
     "output_type": "stream",
     "text": [
      "Answer to add_nums() = 35\n",
      "\n",
      " Separated phrase: \n",
      "['Every', 'dog', 'finds', 'a', 'warm', 'spot', 'on', 'the', 'sidewalk', 'every', 'now', 'and', 'then']\n",
      "\n",
      " Separated and capitalized: \n",
      "['Every', 'Dog', 'Finds', 'A', 'Warm', 'Spot', 'On', 'The', 'Sidewalk', 'Every', 'Now', 'And', 'Then']\n"
     ]
    }
   ],
   "source": [
    "# Function to add two numbers. The parameters (in parentheses) indicate what values are required for the function. These can be ints, strs, dicts, lists, etc.\n",
    "# Type-hinting helps the user know what data-type the parameters and return are supposed to be. Shown by: (param1: int/float/str/dict, param2: whatever) -> str (returns a string)\n",
    "def add_ints(num1: int, num2: int) -> int:\n",
    "    answer = num1 + num2\n",
    "\n",
    "    return answer\n",
    "\n",
    "# Use the function\n",
    "added_nums = add_ints(num1=15, num2=20)\n",
    "print(\"Answer to add_nums() =\", added_nums)\n",
    "\n",
    "# You can use functions for tons of things. It's helpful to include a description of what the function does, it's parameters, and what it returns\n",
    "def separate_str(phrase: str) -> list:\n",
    "    \"\"\"Takes a phrase and separates it into individual words as a list\n",
    "\n",
    "    Parameters\n",
    "    ----------\n",
    "    phrase: str\n",
    "    Some phrase\n",
    "\n",
    "    Returns\n",
    "    -------\n",
    "    separated_phrase: list\n",
    "    A list of each word in the phrase\n",
    "    \"\"\"\n",
    "    separeted_string = phrase.split(\" \")\n",
    "\n",
    "    return separeted_string\n",
    "\n",
    "my_phrase = \"Every dog finds a warm spot on the sidewalk every now and then\"\n",
    "separated_phrase = separate_str(phrase=my_phrase)\n",
    "print(\"\\n Separated phrase: \")\n",
    "print(separated_phrase)\n",
    "\n",
    "# You can also use functions within other functions\n",
    "def capitalize_words(word: str) -> str:\n",
    "    return word.capitalize()\n",
    "\n",
    "# Here we will separate and capitalize each word in the phrase. We will call capitalize_words() in this function\n",
    "def separate_and_capitalize(phrase: str) -> str:\n",
    "    sep_phrase = separate_str(phrase)\n",
    "\n",
    "    capitalized_list = list()\n",
    "    for word in sep_phrase:\n",
    "        upper_case = capitalize_words(word)\n",
    "        capitalized_list.append(upper_case)\n",
    "\n",
    "    return capitalized_list\n",
    "\n",
    "separated_and_capitalized_phrase = separate_and_capitalize(phrase=my_phrase)\n",
    "print(\"\\n Separated and capitalized: \")\n",
    "print(separated_and_capitalized_phrase)\n"
   ]
  }
 ],
 "metadata": {
  "kernelspec": {
   "display_name": "Python 3.11.0 ('python-beginner')",
   "language": "python",
   "name": "python3"
  },
  "language_info": {
   "codemirror_mode": {
    "name": "ipython",
    "version": 3
   },
   "file_extension": ".py",
   "mimetype": "text/x-python",
   "name": "python",
   "nbconvert_exporter": "python",
   "pygments_lexer": "ipython3",
   "version": "3.11.0"
  },
  "orig_nbformat": 4,
  "vscode": {
   "interpreter": {
    "hash": "d77d84a48fd45d6600e72b3aaae72e527ed1c322d2ddc0f1537e5ee3e197fd17"
   }
  }
 },
 "nbformat": 4,
 "nbformat_minor": 2
}
