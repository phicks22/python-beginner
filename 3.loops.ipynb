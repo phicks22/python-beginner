{
 "cells": [
  {
   "cell_type": "markdown",
   "metadata": {},
   "source": [
    "# Loops"
   ]
  },
  {
   "cell_type": "code",
   "execution_count": 9,
   "metadata": {},
   "outputs": [
    {
     "name": "stdout",
     "output_type": "stream",
     "text": [
      "15 \n",
      "\n",
      "Key, value:  first_name ,  Parker\n",
      "Key, value:  Age ,  23\n",
      "Key, value:  favorite_color ,  black\n",
      "['T', 'h', 'i', 's', ' ', 'i', 's', ' ', 'a', ' ', 'r', 'a', 'n', 'd', 'o', 'm', ' ', 's', 't', 'r', 'i', 'n', 'g'] \n",
      "\n",
      "Number, letter:  1 ,  a\n",
      "Number, letter:  2 ,  b\n",
      "Number, letter:  3 ,  c\n",
      "Number, letter:  4 ,  d\n",
      "Number, letter:  5 ,  e\n",
      "\n",
      "\n",
      "Iteration number:  1\n",
      "Iteration number:  2\n",
      "Iteration number:  3\n",
      "Iteration number:  4\n",
      "Iteration number:  5\n",
      "Iteration number:  6\n",
      "Iteration number:  7\n",
      "Iteration number:  8\n",
      "Iteration number:  9\n",
      "Iteration number:  10\n"
     ]
    }
   ],
   "source": [
    "# Loops allow you to iterate through iterables\n",
    "# An iterable can be a list, set, dict, string, etc\n",
    "# Here I'll show you how to do this\n",
    "\n",
    "# For loops let you iterate through each element in an iterable\n",
    "# Lists\n",
    "my_list = [1, 2, 3, 4, 5]\n",
    "added_nums = 0\n",
    "for number in my_list:\n",
    "    added_nums += number\n",
    "\n",
    "print(added_nums, \"\\n\")\n",
    "\n",
    "# Dicts\n",
    "my_dict = {\"first_name\": \"Parker\", \"Age\": 23, \"favorite_color\": \"black\"}\n",
    "for key, value in my_dict.items():\n",
    "    print(\"Key, value: \", key, \", \", value)\n",
    "\n",
    "# Strings\n",
    "my_str = \"This is a random string\"\n",
    "str_list = list()\n",
    "for index_ in my_str:\n",
    "    str_list.append(index_)\n",
    "print(str_list, \"\\n\")\n",
    "\n",
    "# We can also iterate through two things at the same time with zip()\n",
    "list1 = [1, 2, 3, 4, 5]\n",
    "list2 = [\"a\", \"b\", \"c\", \"d\", \"e\"]\n",
    "for num, letter in zip(list1, list2):\n",
    "    print(\"Number, letter: \", num, \", \", letter)\n",
    "print(\"\\n\")\n",
    "\n",
    "# While loops allow you to execute the loop until a condition is True\n",
    "count = 0\n",
    "while count < 10:\n",
    "    count += 1\n",
    "    print(\"Iteration number: \", count)"
   ]
  }
 ],
 "metadata": {
  "kernelspec": {
   "display_name": "Python 3.10.7 64-bit",
   "language": "python",
   "name": "python3"
  },
  "language_info": {
   "codemirror_mode": {
    "name": "ipython",
    "version": 3
   },
   "file_extension": ".py",
   "mimetype": "text/x-python",
   "name": "python",
   "nbconvert_exporter": "python",
   "pygments_lexer": "ipython3",
   "version": "3.10.7"
  },
  "orig_nbformat": 4,
  "vscode": {
   "interpreter": {
    "hash": "aee8b7b246df8f9039afb4144a1f6fd8d2ca17a180786b69acc140d282b71a49"
   }
  }
 },
 "nbformat": 4,
 "nbformat_minor": 2
}
