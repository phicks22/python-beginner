{
 "cells": [
  {
   "cell_type": "code",
   "execution_count": 1,
   "metadata": {},
   "outputs": [],
   "source": [
    "import pathlib\n",
    "import numpy as np"
   ]
  },
  {
   "cell_type": "code",
   "execution_count": 2,
   "metadata": {},
   "outputs": [],
   "source": [
    "# Import the data\n",
    "data_dir = pathlib.Path(\"../data/genome_sequence.txt\")\n",
    "\n",
    "with open(data_dir) as file:\n",
    "    kmers = [line.strip().split(\" \") for line in file.readlines()]\n",
    "\n",
    "sequence = \"\".join(kmers[0])"
   ]
  },
  {
   "cell_type": "code",
   "execution_count": 3,
   "metadata": {},
   "outputs": [
    {
     "name": "stdout",
     "output_type": "stream",
     "text": [
      "['AAC' 'ACG' 'CGG' ... 'GAC' 'ACG' 'CGC']\n"
     ]
    }
   ],
   "source": [
    "def divide_sequence(sequence, k):\n",
    "    \"\"\"\n",
    "    Divides a genome sequence into n k-mer fragments to be sorted in lexicographic order.\n",
    "\n",
    "    :param sequence: Genome sequence input as a string.\n",
    "    :param k: K-mer length (nucleotide length of each genome fragment).\n",
    "    :return: Divided kmer fragments as a space delimited .txt file.\n",
    "    \"\"\"\n",
    "\n",
    "    # Iterate along the sequence storing i:i+k characters as a kmer in a numpy array.\n",
    "    kmers = np.array([sequence[index_:index_ + k] for index_ in range(0, len(sequence) - k + 1)])\n",
    "\n",
    "    return kmers\n",
    "\n",
    "kmers = divide_sequence(sequence=sequence, k=3)\n",
    "print(kmers)"
   ]
  }
 ],
 "metadata": {
  "kernelspec": {
   "display_name": "Python 3.11.0 ('python-beginner')",
   "language": "python",
   "name": "python3"
  },
  "language_info": {
   "codemirror_mode": {
    "name": "ipython",
    "version": 3
   },
   "file_extension": ".py",
   "mimetype": "text/x-python",
   "name": "python",
   "nbconvert_exporter": "python",
   "pygments_lexer": "ipython3",
   "version": "3.11.0"
  },
  "orig_nbformat": 4,
  "vscode": {
   "interpreter": {
    "hash": "d77d84a48fd45d6600e72b3aaae72e527ed1c322d2ddc0f1537e5ee3e197fd17"
   }
  }
 },
 "nbformat": 4,
 "nbformat_minor": 2
}
