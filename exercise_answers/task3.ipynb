{
 "cells": [
  {
   "cell_type": "code",
   "execution_count": 21,
   "metadata": {},
   "outputs": [
    {
     "name": "stdout",
     "output_type": "stream",
     "text": [
      "Frequencies for F1 generation:  {'p_1': 0.6400000000000001, 'q_1': 0.3599999999999999, 'heterozygous_1': 0.31999999999999995}\n",
      "Check that p^2 + 2pq + q^2 = 1.0\n"
     ]
    }
   ],
   "source": [
    "# Allele frequencies\n",
    "p = 0.8\n",
    "q = 1 - p\n",
    "\n",
    "# Fitness coefficients\n",
    "w11 = 1\n",
    "w12 = 1\n",
    "w22 = 1\n",
    "\n",
    "# Check that p+q = 1\n",
    "assert p + q == 1\n",
    "\n",
    "# Define HWE function\n",
    "def selection(p_0: float, q_0: float, w11: float, w12: float, w22: float) -> float:\n",
    "    \"\"\"Calculates the allele\"\"\"\n",
    "    w_bar = (w11 * (p_0**2.0)) + (w12 * (2.0 * p_0 * q_0)) + (w22 * (q_0**2.0))\n",
    "\n",
    "    p_1 = ((p_0**2.0) * w11) / w_bar\n",
    "    q_1 = 1 - p_1\n",
    "    heterozygous = (2.0 * p_0 * q_0 * w12) / w_bar\n",
    "\n",
    "    next_gen_freq = {\"p_1\": p_1, \"q_1\": q_1, \"heterozygous_1\": heterozygous}\n",
    "    return next_gen_freq\n",
    "\n",
    "\n",
    "next_gen = selection(p_0=p, q_0=q, w11=w11, w12=w12, w22=w22)\n",
    "print(\"Frequencies for F1 generation: \", next_gen)\n",
    "\n",
    "# Check that frequencies add up to 1\n",
    "\n",
    "\n",
    "def hwe(p, q):\n",
    "    check_ = (p**2) + (2 * p * q) + (q**2)\n",
    "    return check_\n",
    "\n",
    "\n",
    "print(\"Check that p^2 + 2pq + q^2 =\", hwe(next_gen[\"p_1\"], next_gen[\"q_1\"]))"
   ]
  }
 ],
 "metadata": {
  "kernelspec": {
   "display_name": "Python 3.10.7 64-bit",
   "language": "python",
   "name": "python3"
  },
  "language_info": {
   "codemirror_mode": {
    "name": "ipython",
    "version": 3
   },
   "file_extension": ".py",
   "mimetype": "text/x-python",
   "name": "python",
   "nbconvert_exporter": "python",
   "pygments_lexer": "ipython3",
   "version": "3.10.7"
  },
  "orig_nbformat": 4,
  "vscode": {
   "interpreter": {
    "hash": "aee8b7b246df8f9039afb4144a1f6fd8d2ca17a180786b69acc140d282b71a49"
   }
  }
 },
 "nbformat": 4,
 "nbformat_minor": 2
}
