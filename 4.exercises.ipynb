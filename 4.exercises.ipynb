{
 "cells": [
  {
   "cell_type": "markdown",
   "metadata": {},
   "source": [
    "# Exercises\n",
    "Here we will read a .txt file of a genome sequence and perform some functions commonly used in bioinformatics.\n",
    "\n",
    "_Tip_: It's helpful to draw out how you plan to develop a function or pipeline. "
   ]
  },
  {
   "cell_type": "code",
   "execution_count": 1,
   "metadata": {},
   "outputs": [
    {
     "name": "stdout",
     "output_type": "stream",
     "text": [
      "AACGGTGTCATCGCTATACT\n"
     ]
    }
   ],
   "source": [
    "import pathlib\n",
    "import numpy as np\n",
    "\n",
    "# Import the data\n",
    "data_dir = pathlib.Path(\"data/genome_sequence.txt\")\n",
    "\n",
    "with open(data_dir) as file:\n",
    "    kmers = [line.strip().split(\" \") for line in file.readlines()]\n",
    "\n",
    "sequence = \"\".join(kmers[0])\n",
    "\n",
    "# You now have your sequence!\n",
    "print(sequence[0:20])"
   ]
  },
  {
   "cell_type": "markdown",
   "metadata": {},
   "source": [
    "### Task 1: divide the sequence into kmers of 3 with a moving window of 1 as a list. \n",
    "Example input: \"AACGG\"\n",
    "\n",
    "Example output: [\"AAC\", \"ACG\", \"CGG\", ...,]\n",
    "\n",
    "Below is a helpful example:"
   ]
  },
  {
   "cell_type": "code",
   "execution_count": 2,
   "metadata": {},
   "outputs": [
    {
     "name": "stdout",
     "output_type": "stream",
     "text": [
      "['hdj', 'djs', 'jsf', 'sfa', 'fak', 'aki', 'kid', 'idi', 'dia', 'iau', 'auw', 'uwe', 'weo', 'eou', 'oub', 'ubf', 'bfd', 'fdh', 'dhf', 'hfi', 'fig', 'iga', 'gaw', 'awn', 'wnk', 'nkj', 'kjd', 'jds', 'dsb', 'sbc', 'bcv', 'cvh', 'vhj', 'hjs', 'jsi', 'sir', 'iru', 'rua', 'uah', 'ahw', 'hwf', 'wfo', 'foe', 'oen']\n"
     ]
    }
   ],
   "source": [
    "randomness = \"hdjsfakidiauweoubfdhfigawnkjdsbcvhjsiruahwfoen\"\n",
    "\n",
    "\n",
    "def separate(string_: str, spliced_length: int) -> list:\n",
    "    output_list = list()\n",
    "    for index_ in range(0, len(string_) - spliced_length + 1):\n",
    "        output_list.append(string_[index_ : index_ + spliced_length])\n",
    "\n",
    "    return output_list\n",
    "\n",
    "\n",
    "separated_randomness = separate(string_=randomness, spliced_length=3)\n",
    "print(separated_randomness)"
   ]
  },
  {
   "cell_type": "markdown",
   "metadata": {},
   "source": [
    "### Your turn! Write your code in the chunk below\n",
    "See `exercise_answers/` for help."
   ]
  },
  {
   "cell_type": "code",
   "execution_count": 3,
   "metadata": {},
   "outputs": [],
   "source": [
    "# Your code here"
   ]
  },
  {
   "cell_type": "markdown",
   "metadata": {},
   "source": [
    "### Task 2\n",
    "Put it back together!\n",
    "\n",
    "_hint_: kmers are separated in order and are a product of a moving window (i.e. \"ACTGCG\" --> [\"ACT\", \"CTG\", \"TGC\", \"GCG\"])"
   ]
  },
  {
   "cell_type": "code",
   "execution_count": null,
   "metadata": {},
   "outputs": [],
   "source": [
    "# Steps\n",
    "# 1. Initialize an empty string to add each kmer to --> empty_string = \"\"\n",
    "# 2. Iterate through each kmer\n",
    "# 3. Add the first index of the kmer to the empty string in the loop\n",
    "# 4. Add the last element to the results string (because we're only adding the first index in the loop)\n",
    "\n",
    "# Your code here"
   ]
  },
  {
   "cell_type": "markdown",
   "metadata": {},
   "source": [
    "## Task 3\n",
    "\n",
    "#### Population genetics: Hardy-Weinberg simulator\n",
    "\n",
    "Hardy-Weinberg (HW) is a simple approach to determine populaton allele frequencies. The HW equation is the following:\n",
    "- [Eqn1]: $p^2 + 2pq + q^2 = 1$\n",
    "- Where *$p$*, *$2pq$*, and *$q$* represent the genotypes *$A/A$* (homozygous dominant), *$A/C$* (heterozygous), and *$C/C$* (homozygous recessive), respectively.\n",
    "\n",
    "------\n",
    "\n",
    "#### Your task is to write a function to calculate the alle frequency _p_ after 1 generation with selection. I'll help outline some of the steps here.\n",
    "1. Define the allele frequencies *$p$* and *$q$* where $p + q = 1$\n",
    "2. Define a function to calculate *$p_{1}$*, *$q_{1}$*, and *$2pq_{1}$* after selection\n",
    " - [Eqn2]: [*$p^2$* * (*$w_{11}$* / $\\overline{W}$)] + [2 *$pq$* * (*$w_{12}$* / $\\overline{W}$)] + [*$q^2$* * (*$w_{22}$* / $\\overline{W}$)] = 1\n",
    "   - Where *$w_{mn}$* is the repective fitness coefficient and *$\\overline{W}$* is the relative fitness\n",
    "   - [Eqn3]: *$\\overline{W}$* = (*$w_{11}$* * *$p_{0}^{2}$*) + (*$w_{12}$* * (2 * *$p_{0}$* * *$q_{0}$*)) + (*$w_{22}$* * (*$q_{0}^{2}$*))\n",
    " - Most variables will need to be passed as arguments to the function.\n",
    "    - _Think_: which variable do we not need to pass as an argument?\n",
    " - To calculate the allele frequencies of *$p$*, *$q$*, and *$2pq$* (heterozygous), simply calculate each component in brackets of Eqn2.\n",
    " - The return of your function should be a list or dictionary of the $F_{1}$ generation.\n",
    "3. Check that Eqn1 is true for the F1 generation."
   ]
  },
  {
   "cell_type": "code",
   "execution_count": null,
   "metadata": {},
   "outputs": [],
   "source": [
    "# Step 1: define alle frequencies p and q where p+q=1\n",
    "\n",
    "# Step 2: define the relative fitness coefficients w11, w12, and w22\n",
    "\n",
    "# Step 3: define a function to calculate the F1 allele frequencies\n",
    "\n",
    "# Step 4: check to make sure p^2 + 2pq + q^2 = 1 for the F1 allele frequencies\n",
    "# Here's an exmaple function that I used to check the output of my F1 dict\n",
    "def hwe(p, q):\n",
    "    check_ = (p**2) + (2 * p * q) + (q**2)\n",
    "    return check_\n",
    "\n",
    "\n",
    "# print(\"Check that p^2 + 2pq + q^2 =\", hwe(p=next_gen[\"p_1\"], q=next_gen[\"q_1\"]))"
   ]
  }
 ],
 "metadata": {
  "kernelspec": {
   "display_name": "Python 3.11.0 ('python-beginner')",
   "language": "python",
   "name": "python3"
  },
  "language_info": {
   "codemirror_mode": {
    "name": "ipython",
    "version": 3
   },
   "file_extension": ".py",
   "mimetype": "text/x-python",
   "name": "python",
   "nbconvert_exporter": "python",
   "pygments_lexer": "ipython3",
   "version": "3.11.0"
  },
  "orig_nbformat": 4,
  "vscode": {
   "interpreter": {
    "hash": "d77d84a48fd45d6600e72b3aaae72e527ed1c322d2ddc0f1537e5ee3e197fd17"
   }
  }
 },
 "nbformat": 4,
 "nbformat_minor": 2
}
