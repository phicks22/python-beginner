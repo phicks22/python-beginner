{
 "cells": [
  {
   "cell_type": "markdown",
   "metadata": {},
   "source": [
    "# Exercises\n",
    "Here we will read a .txt file of a genome sequence and perform some functions commonly used in bioinformatics."
   ]
  },
  {
   "cell_type": "code",
   "execution_count": 1,
   "metadata": {},
   "outputs": [
    {
     "name": "stdout",
     "output_type": "stream",
     "text": [
      "AACGGTGTCATCGCTATACT\n"
     ]
    }
   ],
   "source": [
    "import pathlib\n",
    "import numpy as np \n",
    "\n",
    "# Import the data\n",
    "data_dir = pathlib.Path(\"data/genome_sequence.txt\")\n",
    "\n",
    "with open(data_dir) as file:\n",
    "    kmers = [line.strip().split(\" \") for line in file.readlines()]\n",
    "\n",
    "sequence = \"\".join(kmers[0])\n",
    "\n",
    "# You now have your sequence!\n",
    "print(sequence[0: 20])"
   ]
  },
  {
   "cell_type": "markdown",
   "metadata": {},
   "source": [
    "### Task 1: divide the sequence into kmers of 3 with a moving window of 1 as a list. \n",
    "Example input: \"AACGG\"\n",
    "\n",
    "Example output: [\"AAC\", \"ACG\", \"CGG\", ...,]\n",
    "\n",
    "Below is a helpful example:"
   ]
  },
  {
   "cell_type": "code",
   "execution_count": 2,
   "metadata": {},
   "outputs": [
    {
     "name": "stdout",
     "output_type": "stream",
     "text": [
      "['hdj', 'djs', 'jsf', 'sfa', 'fak', 'aki', 'kid', 'idi', 'dia', 'iau', 'auw', 'uwe', 'weo', 'eou', 'oub', 'ubf', 'bfd', 'fdh', 'dhf', 'hfi', 'fig', 'iga', 'gaw', 'awn', 'wnk', 'nkj', 'kjd', 'jds', 'dsb', 'sbc', 'bcv', 'cvh', 'vhj', 'hjs', 'jsi', 'sir', 'iru', 'rua', 'uah', 'ahw', 'hwf', 'wfo', 'foe', 'oen']\n"
     ]
    }
   ],
   "source": [
    "randomness = \"hdjsfakidiauweoubfdhfigawnkjdsbcvhjsiruahwfoen\"\n",
    "\n",
    "def separate(string_: str, spliced_length: int) -> list:\n",
    "    output_list = list()\n",
    "    for index_ in range(0, len(string_) - spliced_length + 1):\n",
    "        output_list.append(string_[index_:index_ + spliced_length])\n",
    "\n",
    "    return output_list\n",
    "\n",
    "separated_randomness = separate(string_=randomness, spliced_length=3)\n",
    "print(separated_randomness)"
   ]
  },
  {
   "cell_type": "markdown",
   "metadata": {},
   "source": [
    "### Your turn! Write your code in the chunk below\n",
    "See `exercise_answers/` for help."
   ]
  },
  {
   "cell_type": "code",
   "execution_count": 3,
   "metadata": {},
   "outputs": [],
   "source": [
    "# Your code here"
   ]
  },
  {
   "cell_type": "markdown",
   "metadata": {},
   "source": [
    "### Task 2\n",
    "Put it back together!\n",
    "\n",
    "_hint_: kmers are separated in order and are a product of a moving window (i.e. \"ACTGCG\" --> [\"ACT\", \"CTG\", \"TGC\", \"GCG\"])"
   ]
  },
  {
   "cell_type": "code",
   "execution_count": null,
   "metadata": {},
   "outputs": [],
   "source": [
    "# Steps\n",
    "# 1. Initialize an empty string to add each kmer to --> empty_string = \"\"\n",
    "# 2. Iterate through each kmer\n",
    "# 3. Add the first index of the kmer to the empty string in the loop\n",
    "# 4. Add the last element to the results string (because we're only adding the first index in the loop)\n",
    "\n",
    "# Your code here"
   ]
  }
 ],
 "metadata": {
  "kernelspec": {
   "display_name": "Python 3.11.0 ('python-beginner')",
   "language": "python",
   "name": "python3"
  },
  "language_info": {
   "codemirror_mode": {
    "name": "ipython",
    "version": 3
   },
   "file_extension": ".py",
   "mimetype": "text/x-python",
   "name": "python",
   "nbconvert_exporter": "python",
   "pygments_lexer": "ipython3",
   "version": "3.11.0"
  },
  "orig_nbformat": 4,
  "vscode": {
   "interpreter": {
    "hash": "d77d84a48fd45d6600e72b3aaae72e527ed1c322d2ddc0f1537e5ee3e197fd17"
   }
  }
 },
 "nbformat": 4,
 "nbformat_minor": 2
}
